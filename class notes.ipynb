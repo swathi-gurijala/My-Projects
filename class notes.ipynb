{
 "cells": [
  {
   "cell_type": "markdown",
   "id": "74de1c88-3d9a-41c2-9683-f3cd3557c1a1",
   "metadata": {},
   "source": [
    "## next line"
   ]
  },
  {
   "cell_type": "code",
   "execution_count": 2,
   "id": "5212d99e-223d-4f2e-8a39-960f6e35962d",
   "metadata": {},
   "outputs": [
    {
     "name": "stdout",
     "output_type": "stream",
     "text": [
      "i am going \n",
      "college for \n",
      "learning nlp\n"
     ]
    }
   ],
   "source": [
    "print(\"i am going \\ncollege for \\nlearning nlp\")"
   ]
  },
  {
   "cell_type": "markdown",
   "id": "8bc46520-c84c-4322-9801-36d43afd52be",
   "metadata": {},
   "source": [
    "## space"
   ]
  },
  {
   "cell_type": "code",
   "execution_count": 3,
   "id": "2c0d1267-6a2a-4b8a-91e6-07c33fd682f9",
   "metadata": {},
   "outputs": [
    {
     "name": "stdout",
     "output_type": "stream",
     "text": [
      "i am going to\t mru college\n"
     ]
    }
   ],
   "source": [
    "print(\"i am going to\\t mru college\")"
   ]
  },
  {
   "cell_type": "markdown",
   "id": "216ac6b9-9872-48ee-97ca-6b1be89df076",
   "metadata": {},
   "source": [
    "## carriage return(\\r)"
   ]
  },
  {
   "cell_type": "code",
   "execution_count": 10,
   "id": "a3f3a671-ee24-4986-8912-cc4de36acc43",
   "metadata": {},
   "outputs": [
    {
     "name": "stdout",
     "output_type": "stream",
     "text": [
      "learning nlpo college for \n"
     ]
    }
   ],
   "source": [
    "print(\"i am going to college for \\rlearning nlp\")"
   ]
  },
  {
   "cell_type": "markdown",
   "id": "d4268d3e-3de9-4a92-93f3-a1450ac4bbc8",
   "metadata": {},
   "source": [
    "## re.search()"
   ]
  },
  {
   "cell_type": "code",
   "execution_count": 17,
   "id": "6c519f13-61c1-45f7-8d76-c773d5a100bf",
   "metadata": {},
   "outputs": [
    {
     "data": {
      "text/plain": [
       "'007'"
      ]
     },
     "execution_count": 17,
     "metadata": {},
     "output_type": "execute_result"
    }
   ],
   "source": [
    "import re\n",
    "pattern=r'\\d+'\n",
    "string=\"james bond 007 wants 008 to llearn python\"\n",
    "matching=re.search(pattern,string)\n",
    "matching.group()"
   ]
  },
  {
   "cell_type": "markdown",
   "id": "37c97e95-550b-46f3-9b1b-016057a9f209",
   "metadata": {},
   "source": [
    "## re.findall()"
   ]
  },
  {
   "cell_type": "code",
   "execution_count": 20,
   "id": "ba08d9a9-8c91-441e-ac22-87e0561e9607",
   "metadata": {},
   "outputs": [
    {
     "data": {
      "text/plain": [
       "['007', '008']"
      ]
     },
     "execution_count": 20,
     "metadata": {},
     "output_type": "execute_result"
    }
   ],
   "source": [
    "import re\n",
    "pattern=r'\\d+'\n",
    "string=\"james bond 007 wants 008 to llearn python\"\n",
    "matching=re.findall(pattern,string)\n",
    "matching"
   ]
  },
  {
   "cell_type": "markdown",
   "id": "818c5b90-9a72-458c-8c85-5b400e44647a",
   "metadata": {},
   "source": [
    "## re.sub()"
   ]
  },
  {
   "cell_type": "code",
   "execution_count": 22,
   "id": "f03240b2-8da4-4bc1-a453-2e00e064145f",
   "metadata": {},
   "outputs": [
    {
     "data": {
      "text/plain": [
       "'james bond # wants # to llearn python'"
      ]
     },
     "execution_count": 22,
     "metadata": {},
     "output_type": "execute_result"
    }
   ],
   "source": [
    "import re\n",
    "pattern=r'\\d+'\n",
    "string=\"james bond 007 wants 008 to llearn python\"\n",
    "matching=re.sub(pattern,'#',string)\n",
    "matching"
   ]
  },
  {
   "cell_type": "code",
   "execution_count": 23,
   "id": "29c42b61-b99d-4cec-8fba-654405cd4951",
   "metadata": {},
   "outputs": [
    {
     "data": {
      "text/plain": [
       "'james bond @ wants @ to llearn python'"
      ]
     },
     "execution_count": 23,
     "metadata": {},
     "output_type": "execute_result"
    }
   ],
   "source": [
    "import re\n",
    "pattern=r'\\d+'\n",
    "string=\"james bond 007 wants 008 to llearn python\"\n",
    "matching=re.sub(pattern,'@',string)\n",
    "matching"
   ]
  },
  {
   "cell_type": "code",
   "execution_count": 35,
   "id": "51a0bfdc-7159-4bc5-9532-4cbe4890ea5d",
   "metadata": {},
   "outputs": [],
   "source": [
    "text=\"\"\"\n",
    "swathi's emailid is swathi@gmail.com and find her #ID also. and her faather's mail is: rksp@gmail.com\n",
    "\"\"\""
   ]
  },
  {
   "cell_type": "code",
   "execution_count": 36,
   "id": "273cb76c-b8f2-4d6c-8d2d-fbb84d382088",
   "metadata": {},
   "outputs": [
    {
     "data": {
      "text/plain": [
       "['swathi@gmail.com', 'rksp@gmail.com']"
      ]
     },
     "execution_count": 36,
     "metadata": {},
     "output_type": "execute_result"
    }
   ],
   "source": [
    "pattern=r'[a-zA-Z0-9._%+-]+@[a-zA-Z0-9.-]+\\.[a-zA-Z]{2,}'\n",
    "emails=re.findall(pattern,text)\n",
    "emails"
   ]
  },
  {
   "cell_type": "code",
   "execution_count": 37,
   "id": "2141e02f-07f0-4e82-9a26-a9993d6f258a",
   "metadata": {},
   "outputs": [
    {
     "data": {
      "text/plain": [
       "[]"
      ]
     },
     "execution_count": 37,
     "metadata": {},
     "output_type": "execute_result"
    }
   ],
   "source": [
    "hash_tags=re.findall(r'#w+',text)\n",
    "hash_tags"
   ]
  },
  {
   "cell_type": "code",
   "execution_count": null,
   "id": "771e5e85-371a-4287-b440-a13c7bb9952d",
   "metadata": {},
   "outputs": [],
   "source": []
  }
 ],
 "metadata": {
  "kernelspec": {
   "display_name": "Python 3 (ipykernel)",
   "language": "python",
   "name": "python3"
  },
  "language_info": {
   "codemirror_mode": {
    "name": "ipython",
    "version": 3
   },
   "file_extension": ".py",
   "mimetype": "text/x-python",
   "name": "python",
   "nbconvert_exporter": "python",
   "pygments_lexer": "ipython3",
   "version": "3.12.7"
  }
 },
 "nbformat": 4,
 "nbformat_minor": 5
}
